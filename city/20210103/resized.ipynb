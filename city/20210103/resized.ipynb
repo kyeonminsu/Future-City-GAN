{
 "cells": [
  {
   "cell_type": "code",
   "execution_count": 1,
   "metadata": {},
   "outputs": [],
   "source": [
    "from PIL import Image\n",
    "import scipy\n",
    "from glob import glob"
   ]
  },
  {
   "cell_type": "code",
   "execution_count": null,
   "metadata": {},
   "outputs": [],
   "source": [
    "path1 = glob('./city_data/trainB/*')\n",
    "path2 = glob('./city_data/trainA/*')"
   ]
  },
  {
   "cell_type": "code",
   "execution_count": null,
   "metadata": {},
   "outputs": [],
   "source": [
    "for i in range(len(train_path1)):\n",
    "    image1 = Image.open(train_path1[i])\n",
    "    image2 = Image.open(train_path2[i])\n",
    "    image1 = image1.resize((256, 256))\n",
    "    image2 = image2.resize((256, 256))\n",
    "    image1_size = image1.size\n",
    "    image2_size = image2.size\n",
    "    new_image = Image.new('RGB',(2*image1_size[0], image1_size[1]), (250,250,250))\n",
    "    new_image.paste(image1,(0,0))\n",
    "    new_image.paste(image2,(image1_size[0],0))\n",
    "    new_image.save(\"./city_data/citydata/train/train\"+str(i+1)+\".jpg\",\"JPEG\")\n",
    "\n",
    "val_path1 = glob('./city_data/testB/*')\n",
    "val_path2 = glob('./city_data/testA/*')\n",
    "\n",
    "for i in range(len(val_path1)):\n",
    "    image1 = Image.open(val_path1[i])\n",
    "    image2 = Image.open(val_path2[i])\n",
    "    image1 = image1.resize((256, 256))\n",
    "    image2 = image2.resize((256, 256))\n",
    "    image1_size = image1.size\n",
    "    image2_size = image2.size\n",
    "    new_image = Image.new('RGB',(2*image1_size[0], image1_size[1]), (250,250,250))\n",
    "    new_image.paste(image1,(0,0))\n",
    "    new_image.paste(image2,(image1_size[0],0))\n",
    "    new_image.save(\"./city_data/citydata/val/val\"+str(i+1)+\".jpg\",\"JPEG\")"
   ]
  }
 ],
 "metadata": {
  "kernelspec": {
   "display_name": "Python 3",
   "language": "python",
   "name": "python3"
  },
  "language_info": {
   "codemirror_mode": {
    "name": "ipython",
    "version": 3
   },
   "file_extension": ".py",
   "mimetype": "text/x-python",
   "name": "python",
   "nbconvert_exporter": "python",
   "pygments_lexer": "ipython3",
   "version": "3.8.3"
  }
 },
 "nbformat": 4,
 "nbformat_minor": 4
}
