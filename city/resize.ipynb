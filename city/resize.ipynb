{
 "cells": [
  {
   "cell_type": "code",
   "execution_count": 4,
   "metadata": {},
   "outputs": [],
   "source": [
    "from PIL import Image\n",
    "\n",
    "img = Image.open('test/down.jpg')\n",
    "\n",
    "img_resize = img.resize((1024,1024))\n",
    "img_resize.save('test/1_test.jpg')"
   ]
  },
  {
   "cell_type": "code",
   "execution_count": 30,
   "metadata": {},
   "outputs": [],
   "source": [
    "import os\n",
    "import glob\n",
    "from PIL import Image\n",
    "\n",
    "files = glob.glob('input_data/*.jpg')\n",
    "\n",
    "for f in files:\n",
    "    img = Image.open(f)\n",
    "    if ima.mode in (\"RGBA\", \"P\"): \n",
    "        print(image)\n",
    "    img_resize = img.resize((256,256), Image.ANTIALIAS)\n",
    "    img_resize.convert(\"RGBA\")\n",
    "    title, ext = os.path.splitext(f)\n",
    "    img_resize.save(title + '_resize' + ext)"
   ]
  },
  {
   "cell_type": "code",
   "execution_count": 41,
   "metadata": {},
   "outputs": [
    {
     "name": "stdout",
     "output_type": "stream",
     "text": [
      "1\n",
      "<PIL.PngImagePlugin.PngImageFile image mode=RGBA size=1920x908 at 0x1511761EEB0>\n",
      "<PIL.PngImagePlugin.PngImageFile image mode=RGBA size=1401x747 at 0x15117606C10>\n",
      "2\n"
     ]
    }
   ],
   "source": [
    "import os\n",
    "import glob\n",
    "from PIL import Image\n",
    "\n",
    "img_list=[]\n",
    "resized_img=[]\n",
    "\n",
    "for f in glob.glob('Aerial view_re/*.jpg'):\n",
    "    img = Image.open(f)\n",
    "    img_list.append(img)\n",
    "print(\"1\")\n",
    "for image in img_list:\n",
    "    if image.mode in (\"RGBA\", \"P\"): \n",
    "        print(image)\n",
    "        image = image.convert(\"RGB\")\n",
    "    image = image.resize((256,256))\n",
    "    resized_img.append(image)\n",
    "print(\"2\")    \n",
    "for (i, new) in enumerate(resized_img):\n",
    "    new.save('{}{}{}'.format('future_city_resized/',i+1,'.jpg'))"
   ]
  },
  {
   "cell_type": "code",
   "execution_count": null,
   "metadata": {},
   "outputs": [],
   "source": []
  }
 ],
 "metadata": {
  "kernelspec": {
   "display_name": "Python 3",
   "language": "python",
   "name": "python3"
  },
  "language_info": {
   "codemirror_mode": {
    "name": "ipython",
    "version": 3
   },
   "file_extension": ".py",
   "mimetype": "text/x-python",
   "name": "python",
   "nbconvert_exporter": "python",
   "pygments_lexer": "ipython3",
   "version": "3.8.3"
  }
 },
 "nbformat": 4,
 "nbformat_minor": 4
}
